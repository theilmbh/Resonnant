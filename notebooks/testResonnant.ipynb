{
 "cells": [
  {
   "cell_type": "code",
   "execution_count": 3,
   "metadata": {
    "collapsed": false
   },
   "outputs": [],
   "source": [
    "from brian2 import *\n",
    "%matplotlib inline"
   ]
  },
  {
   "cell_type": "code",
   "execution_count": 28,
   "metadata": {
    "collapsed": false
   },
   "outputs": [
    {
     "data": {
      "image/png": "[encoded data removed]",
      "text/plain": [
       "<matplotlib.figure.Figure at 0x103a43cd0>"
      ]
     },
     "metadata": {},
     "output_type": "display_data"
    }
   ],
   "source": [
    "start_scope()\n",
    "\n",
    "N = 50\n",
    "tau = 10*ms\n",
    "vr = -70*mV\n",
    "vt0 = -50*mV\n",
    "delta_vt0 = 5*mV\n",
    "tau_t = 100*ms\n",
    "sigma = 0.05*(vt0-vr)\n",
    "v_drive = 2*(vt0-vr)\n",
    "duration = 1000*ms\n",
    "\n",
    "eqs = '''\n",
    "dv/dt = (v_drive+vr-v)/tau + sigma*xi*tau**-0.5 : volt\n",
    "dvt/dt = (vt0-vt)/tau_t : volt\n",
    "'''\n",
    "\n",
    "reset = '''\n",
    "v = vr\n",
    "vt += delta_vt0\n",
    "'''\n",
    "\n",
    "G = NeuronGroup(N, eqs, threshold='v>vt', reset=reset, refractory=5*ms, method='euler')\n",
    "spikemon = SpikeMonitor(G)\n",
    "\n",
    "G.v = 'rand()*(vt0-vr)+vr'\n",
    "G.vt = vt0\n",
    "\n",
    "run(duration)\n",
    "\n",
    "_ = hist(spikemon.t/ms, 100, histtype='stepfilled', facecolor='k', weights=ones(len(spikemon))/(N*defaultclock.dt))\n",
    "xlabel('Time (ms)')\n",
    "ylabel('Instantaneous firing rate (sp/s)');"
   ]
  },
  {
   "cell_type": "code",
   "execution_count": 13,
   "metadata": {
    "collapsed": false
   },
   "outputs": [
    {
     "data": {
      "text/plain": [
       "array([  2,  54, 112, ..., 106, 152, 600], dtype=int32)"
      ]
     },
     "execution_count": 13,
     "metadata": {},
     "output_type": "execute_result"
    }
   ],
   "source": [
    "np.array(spikemon.i)"
   ]
  },
  {
   "cell_type": "code",
   "execution_count": 21,
   "metadata": {
    "collapsed": false
   },
   "outputs": [],
   "source": [
    "import pandas as pd\n",
    "\n",
    "spikes = pd.DataFrame({'Cluster': np.array(spikemon.i), 'time_samples': np.array(spikemon.t)})"
   ]
  },
  {
   "cell_type": "code",
   "execution_count": 29,
   "metadata": {
    "collapsed": false
   },
   "outputs": [
    {
     "data": {
      "text/plain": [
       "[<matplotlib.lines.Line2D at 0x10e498e50>]"
      ]
     },
     "execution_count": 29,
     "metadata": {},
     "output_type": "execute_result"
    },
    {
     "data": {
      "image/png": "[encoded data removed]",
      "text/plain": [
       "<matplotlib.figure.Figure at 0x10e41b3d0>"
      ]
     },
     "metadata": {},
     "output_type": "display_data"
    }
   ],
   "source": [
    "plot(spikemon.t/ms, spikemon.i, '.')"
   ]
  },
  {
   "cell_type": "code",
   "execution_count": 14,
   "metadata": {
    "collapsed": false
   },
   "outputs": [],
   "source": [
    "import sys\n",
    "sys.path.append('../resonnant')\n",
    "import resonnant as rs\n",
    "reload(rs)\n",
    "import pandas as pd"
   ]
  },
  {
   "cell_type": "markdown",
   "metadata": {},
   "source": [
    "# Test brian2ephys"
   ]
  },
  {
   "cell_type": "code",
   "execution_count": 30,
   "metadata": {
    "collapsed": false
   },
   "outputs": [],
   "source": [
    "brianTri = [spikemon, spikemon]\n",
    "stims = ['teststim', 'teststim']\n",
    "trialLen = 1.0\n",
    "iti = 5.0\n",
    "fs = 20000\n",
    "(spikes, trials) = rs.brian2ephys(brianTri, stims, trialLen, iti, fs)\n",
    "clusters = pd.DataFrame({'cluster': range(50), 'quality': 50*['Good']})"
   ]
  },
  {
   "cell_type": "code",
   "execution_count": 31,
   "metadata": {
    "collapsed": false
   },
   "outputs": [
    {
     "data": {
      "text/plain": [
       "<module 'neuraltda.topology' from '/Users/brad/GentnerLab/code/NeuralTDA/neuraltda/topology.pyc'>"
      ]
     },
     "execution_count": 31,
     "metadata": {},
     "output_type": "execute_result"
    }
   ],
   "source": [
    "import neuraltda.topology as tp\n",
    "reload(tp)"
   ]
  },
  {
   "cell_type": "markdown",
   "metadata": {},
   "source": [
    "# Test binning Brian2 output"
   ]
  },
  {
   "cell_type": "code",
   "execution_count": 32,
   "metadata": {
    "collapsed": false
   },
   "outputs": [],
   "source": [
    "ncellsperm = 30\n",
    "nperms = 20\n",
    "nshuffs = 1\n",
    "bfdict = tp.do_dag_bin('../',spikes, trials, clusters, fs, 25.0, {'period': 1}, ncellsperm, nperms, nshuffs)"
   ]
  },
  {
   "cell_type": "code",
   "execution_count": 33,
   "metadata": {
    "collapsed": false
   },
   "outputs": [],
   "source": [
    "tp.dag_topology('../',4.0, bfdict)"
   ]
  },
  {
   "cell_type": "code",
   "execution_count": null,
   "metadata": {
    "collapsed": true
   },
   "outputs": [],
   "source": []
  }
 ],
 "metadata": {
  "kernelspec": {
   "display_name": "Python 2",
   "language": "python",
   "name": "python2"
  },
  "language_info": {
   "codemirror_mode": {
    "name": "ipython",
    "version": 2
   },
   "file_extension": ".py",
   "mimetype": "text/x-python",
   "name": "python",
   "nbconvert_exporter": "python",
   "pygments_lexer": "ipython2",
   "version": "2.7.11"
  }
 },
 "nbformat": 4,
 "nbformat_minor": 0
}
